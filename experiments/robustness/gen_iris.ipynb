{
 "cells": [
  {
   "cell_type": "code",
   "execution_count": null,
   "id": "d32c6c8c",
   "metadata": {},
   "outputs": [],
   "source": [
    "# Execute only once!\n",
    "import os\n",
    "import sys\n",
    "sys.path.append(\"..\")\n",
    "os.chdir(\"..\")\n",
    "\n",
    "os.environ[\"CUDA_VISIBLE_DEVICES\"]=\"3\""
   ]
  },
  {
   "cell_type": "code",
   "execution_count": null,
   "id": "8fca8e71",
   "metadata": {},
   "outputs": [],
   "source": [
    "import numpy as np\n",
    "import pandas as pd\n",
    "import logging\n",
    "from sklearn import datasets"
   ]
  },
  {
   "cell_type": "code",
   "execution_count": null,
   "id": "c1b352ba",
   "metadata": {},
   "outputs": [],
   "source": [
    "from be_great import GReaT\n",
    "import logging\n",
    "\n",
    "\n",
    "class CustomFormatter(logging.Formatter):\n",
    "    grey = \"\\x1b[39;20m\"\n",
    "    yellow = \"\\x1b[33;20m\"\n",
    "    red = \"\\x1b[31;20m\"\n",
    "    bold_red = \"\\x1b[31;1m\"\n",
    "    reset = \"\\x1b[0m\"\n",
    "    format = \"%(asctime)s - %(levelname)s - %(message)s (%(filename)s:%(lineno)d)\"\n",
    "\n",
    "    FORMATS = {\n",
    "        logging.DEBUG: grey + format + reset,\n",
    "        logging.INFO: grey + format + reset,\n",
    "        logging.WARNING: yellow + format + reset,\n",
    "        logging.ERROR: red + format + reset,\n",
    "        logging.CRITICAL: bold_red + format + reset,\n",
    "    }\n",
    "\n",
    "    def format(self, record):\n",
    "        log_fmt = self.FORMATS.get(record.levelno)\n",
    "        formatter = logging.Formatter(log_fmt)\n",
    "        return formatter.format(record)\n",
    "\n",
    "\n",
    "def set_logging_level(level=logging.INFO):\n",
    "    logger = logging.getLogger()\n",
    "    logger.setLevel(level)\n",
    "\n",
    "    ch = logging.StreamHandler()\n",
    "    ch.setLevel(level)\n",
    "    ch.setFormatter(CustomFormatter())\n",
    "\n",
    "    logger.addHandler(ch)\n",
    "\n",
    "    return logger\n"
   ]
  },
  {
   "cell_type": "code",
   "execution_count": null,
   "id": "c9c71243",
   "metadata": {},
   "outputs": [],
   "source": [
    "g = 6\n",
    "dataset = 'iris'\n",
    "data = np.load(f\"datasets/gen/{dataset}-{g}.npy\", allow_pickle=True).item()\n",
    "data = data['watermarked_data']\n",
    "data.head()\n",
    "\n",
    "columns = ['sepal_length', 'sepal_width', 'petal_length', 'petal_width', 'class']"
   ]
  },
  {
   "cell_type": "code",
   "execution_count": null,
   "id": "d1158e0c",
   "metadata": {},
   "outputs": [],
   "source": [
    "great = GReaT(\"distilgpt2\",                  # Name of the large language model used (see HuggingFace for more options)\n",
    "              epochs=400,                   # Number of epochs to train\n",
    "              save_steps=2000,               # Save model weights every x steps\n",
    "              logging_steps=500,             # Log the loss and learning rate every x steps\n",
    "              experiment_dir=\"trainer_iris\", # Name of the directory where all intermediate steps are saved\n",
    "              batch_size=16,                 # Batch Size\n",
    "              #lr_scheduler_type=\"constant\", # Specify the learning rate scheduler \n",
    "              #learning_rate=5e-5            # Set the inital learning rate\n",
    "             )"
   ]
  },
  {
   "cell_type": "code",
   "execution_count": null,
   "id": "649a0a3f",
   "metadata": {},
   "outputs": [],
   "source": [
    "trainer = great.fit(data)"
   ]
  },
  {
   "cell_type": "code",
   "execution_count": null,
   "id": "7bd2d687",
   "metadata": {},
   "outputs": [],
   "source": [
    "loss_hist = trainer.state.log_history.copy()\n",
    "loss_hist.pop()"
   ]
  },
  {
   "cell_type": "code",
   "execution_count": null,
   "id": "55fab0fa",
   "metadata": {},
   "outputs": [],
   "source": [
    "loss = [x[\"loss\"] for x in loss_hist]\n",
    "epochs = [x[\"epoch\"] for x in loss_hist]"
   ]
  },
  {
   "cell_type": "code",
   "execution_count": null,
   "id": "f17934c3",
   "metadata": {},
   "outputs": [],
   "source": [
    "import matplotlib.pyplot as plt\n",
    "\n",
    "plt.plot(epochs, loss)"
   ]
  },
  {
   "cell_type": "code",
   "execution_count": null,
   "id": "d8f3f3a5",
   "metadata": {},
   "outputs": [],
   "source": [
    "great.save(\"iris\")"
   ]
  },
  {
   "cell_type": "code",
   "execution_count": null,
   "id": "8222c36e",
   "metadata": {},
   "outputs": [],
   "source": [
    "great = GReaT.load_from_dir(\"iris\")"
   ]
  },
  {
   "cell_type": "code",
   "execution_count": null,
   "id": "01211600",
   "metadata": {},
   "outputs": [],
   "source": [
    "n_samples = 150"
   ]
  },
  {
   "cell_type": "code",
   "execution_count": null,
   "id": "b8e29e58",
   "metadata": {},
   "outputs": [],
   "source": [
    "samples = great.sample(n_samples, k=5)"
   ]
  },
  {
   "cell_type": "code",
   "execution_count": null,
   "id": "f98db278",
   "metadata": {},
   "outputs": [],
   "source": [
    "samples.head()\n",
    "print(samples)\n",
    "samples.to_csv(f\"datasets/iris/iris_{g}_gen.csv\",index=False)"
   ]
  }
 ],
 "metadata": {
  "language_info": {
   "name": "python"
  }
 },
 "nbformat": 4,
 "nbformat_minor": 5
}
