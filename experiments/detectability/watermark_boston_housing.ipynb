{
 "cells": [
  {
   "cell_type": "code",
   "execution_count": null,
   "metadata": {},
   "outputs": [],
   "source": [
    "import os\n",
    "import torch\n",
    "import argparse\n",
    "import numpy as np\n",
    "import matplotlib.pyplot as plt\n",
    "import pandas as pd\n",
    "import hashlib\n",
    "from watermarking_schemes.B2Mark_housing import WatermarkEmbedding, WatermarkDetection\n",
    "\n",
    "dataset = 'housing'\n",
    "original_file = 'datasets/HousingData.csv'\n",
    "\n",
    "g = 3\n",
    "k = 10\n",
    "\n",
    "seed_range = range(10000, 10050)\n",
    "for seed in seed_range:\n",
    "    output_file = f\"datasets/watermark/{dataset}/{dataset}-{seed}.npy\"\n",
    "    processor = WatermarkEmbedding(dataset, seed=seed, k=k, g=g)\n",
    "    processor.load_data(original_file)\n",
    "    processor.generate_segments()\n",
    "    processor.process_data()\n",
    "    processor.save_results(output_file)\n",
    "\n",
    "dataset = 'housing'\n",
    "secret_key = \"123\"\n",
    "detector = WatermarkDetection(dataset, secret_key)\n",
    "detector.run_detection()"
   ]
  }
 ],
 "metadata": {
  "kernelspec": {
   "display_name": "watermark",
   "language": "python",
   "name": "python3"
  },
  "language_info": {
   "codemirror_mode": {
    "name": "ipython",
    "version": 3
   },
   "file_extension": ".py",
   "mimetype": "text/x-python",
   "name": "python",
   "nbconvert_exporter": "python",
   "pygments_lexer": "ipython3",
   "version": "3.8.19"
  }
 },
 "nbformat": 4,
 "nbformat_minor": 2
}
