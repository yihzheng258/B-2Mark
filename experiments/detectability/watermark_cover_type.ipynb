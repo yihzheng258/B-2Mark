{
 "cells": [
  {
   "cell_type": "code",
   "execution_count": null,
   "metadata": {},
   "outputs": [],
   "source": [
    "# Table 3 in Section 5.1\n",
    "# covertype\n",
    "\n",
    "import numpy as np\n",
    "import matplotlib.pyplot as plt\n",
    "import pandas as pd\n",
    "import hashlib\n",
    "import sys\n",
    "import os\n",
    "from watermarking_schemes.B2Mark_covertype import WatermarkEmbedding, WatermarkDetection\n",
    "\n",
    "\n",
    "gamma = 1/2\n",
    "g = 10\n",
    "dataset = 'covertype'\n",
    "original_file = 'datasets/covtype_with_key.subset.data'\n",
    "seed_range = range(10000, 10050)\n",
    "\n",
    "for seed in seed_range:\n",
    "    output_file = f\"../../datasets/watermark/{dataset}/{dataset}-{seed}.npy\"\n",
    "    \n",
    "    # Initialize and process data\n",
    "    processor = WatermarkEmbedding(dataset, seed, g)\n",
    "    processor.load_data(original_file)\n",
    "    processor.process_data()\n",
    "    processor.save_results(output_file)\n",
    "    \n",
    "dataset = 'covertype'\n",
    "secret_key = \"123\"\n",
    "detector = WatermarkDetection(dataset, secret_key)\n",
    "detector.run_detection()"
   ]
  }
 ],
 "metadata": {
  "kernelspec": {
   "display_name": "watermark",
   "language": "python",
   "name": "python3"
  },
  "language_info": {
   "codemirror_mode": {
    "name": "ipython",
    "version": 3
   },
   "file_extension": ".py",
   "mimetype": "text/x-python",
   "name": "python",
   "nbconvert_exporter": "python",
   "pygments_lexer": "ipython3",
   "version": "3.8.19"
  }
 },
 "nbformat": 4,
 "nbformat_minor": 2
}
