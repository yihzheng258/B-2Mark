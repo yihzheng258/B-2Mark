{
 "cells": [
  {
   "cell_type": "code",
   "execution_count": 2,
   "metadata": {},
   "outputs": [],
   "source": [
    "# detect\n",
    "import os\n",
    "import torch\n",
    "import argparse\n",
    "import numpy as np\n",
    "import matplotlib.pyplot as plt\n",
    "import pandas as pd\n",
    "\n",
    "seed = 111\n",
    "np.random.seed(seed)\n",
    "\n",
    "attack_proportion = [0.2, 0.4, 0.6, 0.8, 1.0]\n",
    "dataset = \"covertype\"\n",
    "\n",
    "origin = pd.read_csv(\"../dataset/covtype_with_key.subset.data\")\n",
    "cover_types = origin['Cover_Type'].unique()\n",
    "cover_types.sort()\n",
    "\n",
    "data_path = \"different_version_datasets/original\"\n",
    "for file_name in os.listdir(data_path):\n",
    "    if file_name.startswith(\"covertype-\"):\n",
    "        # 提取 \"-\" 后的数字部分\n",
    "        base_name, ext = os.path.splitext(file_name)\n",
    "        leble_decimal_number = int(base_name.split(\"-\")[-1])\n",
    "    \n",
    "        loaded_results = np.load(f\"{data_path}/{file_name}\", allow_pickle=True).item()\n",
    "        watermarked_data = loaded_results['watermarked_data']\n",
    "        \n",
    "        for proportion in attack_proportion:\n",
    "            temp = watermarked_data.copy()\n",
    "            indices = np.random.choice(len(temp), size=int(proportion * len(temp)), replace=False)\n",
    "            perturb_values = np.random.choice(cover_types, size=int(proportion * len(temp)))\n",
    "            temp.loc[indices, 'Cover_Type'] = perturb_values\n",
    "            temp.to_csv(f\"different_version_datasets/{proportion}attack/{file_name}\", index=False)\n",
    "\n",
    "        \n",
    "\n"
   ]
  }
 ],
 "metadata": {
  "kernelspec": {
   "display_name": "watermark",
   "language": "python",
   "name": "python3"
  },
  "language_info": {
   "codemirror_mode": {
    "name": "ipython",
    "version": 3
   },
   "file_extension": ".py",
   "mimetype": "text/x-python",
   "name": "python",
   "nbconvert_exporter": "python",
   "pygments_lexer": "ipython3",
   "version": "3.8.19"
  }
 },
 "nbformat": 4,
 "nbformat_minor": 2
}
