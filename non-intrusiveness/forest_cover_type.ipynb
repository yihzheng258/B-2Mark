{
 "cells": [
  {
   "cell_type": "code",
   "execution_count": null,
   "metadata": {},
   "outputs": [],
   "source": [
    "# evluate the performance of xgboost on the original dataset\n",
    "\n",
    "import pandas as pd\n",
    "from sklearn.model_selection import train_test_split\n",
    "from sklearn.preprocessing import LabelEncoder\n",
    "from sklearn.metrics import f1_score\n",
    "import xgboost as xgb\n",
    "\n",
    "original_file = '../dataset/covtype_with_key.subset.data'\n",
    "origin = pd.read_csv(original_file)\n",
    "\n",
    "X = origin.drop(columns=['Cover_Type'])\n",
    "y = origin['Cover_Type']\n",
    "\n",
    "le = LabelEncoder()\n",
    "y = le.fit_transform(y)\n",
    "\n",
    "X_train, X_test, y_train, y_test = train_test_split(X, y, test_size=0.3, random_state=42)\n",
    "\n",
    "model = xgb.XGBClassifier(n_estimators=30, max_depth=10, n_jobs=4)\n",
    "model.fit(X_train, y_train)\n",
    "\n",
    "y_pred = model.predict(X_test)\n",
    "f1_scores = f1_score(y_test, y_pred, average=None)\n",
    "for i, score in enumerate(f1_scores):\n",
    "    print(f\"Category {le.inverse_transform([i])[0]}: F1-score = {score:.4f}\")\n"
   ]
  },
  {
   "cell_type": "code",
   "execution_count": null,
   "metadata": {},
   "outputs": [],
   "source": [
    "import pandas as pd\n",
    "from sklearn.model_selection import train_test_split\n",
    "from sklearn.preprocessing import LabelEncoder\n",
    "from sklearn.metrics import f1_score\n",
    "import xgboost as xgb\n",
    "import numpy as np\n",
    "\n",
    "dataset = 'covertype'\n",
    "seed = 10000\n",
    "\n",
    "original_file = '../dataset/covtype_with_key.subset.data'\n",
    "origin = pd.read_csv(original_file)\n",
    "\n",
    "loaded_results = np.load(f\"{dataset}-{seed}.npy\", allow_pickle=True).item()\n",
    "watermarked_data = loaded_results['watermarked_data']\n",
    "\n",
    "\n",
    "X = watermarked_data.drop(columns=['Cover_Type'])\n",
    "y = watermarked_data['Cover_Type']\n",
    "\n",
    "le = LabelEncoder()\n",
    "y = le.fit_transform(y)\n",
    "\n",
    "X_train, _, y_train, _ = train_test_split(X, y, test_size=0.3, random_state=42)\n",
    "\n",
    "X = origin.drop(columns=['Cover_Type'])\n",
    "y = origin['Cover_Type']\n",
    "\n",
    "le = LabelEncoder()\n",
    "y = le.fit_transform(y)\n",
    "\n",
    "_, X_test, _, y_test = train_test_split(X, y, test_size=0.3, random_state=42)\n",
    "\n",
    "model = xgb.XGBClassifier(n_estimators=30, max_depth=10, n_jobs=4)\n",
    "model.fit(X_train, y_train)\n",
    "y_pred = model.predict(X_test)\n",
    "\n",
    "f1_scores = f1_score(y_test, y_pred, average=None)\n",
    "for i, score in enumerate(f1_scores):\n",
    "    print(f\"Category {le.inverse_transform([i])[0]}: F1-score = {score:.4f}\")\n"
   ]
  }
 ],
 "metadata": {
  "kernelspec": {
   "display_name": "watermark",
   "language": "python",
   "name": "python3"
  },
  "language_info": {
   "name": "python",
   "version": "3.8.19"
  }
 },
 "nbformat": 4,
 "nbformat_minor": 2
}
