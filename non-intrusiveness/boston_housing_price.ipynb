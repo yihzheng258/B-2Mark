{
 "cells": [
  {
   "cell_type": "code",
   "execution_count": null,
   "metadata": {},
   "outputs": [],
   "source": [
    "# non-intrusiveness\n",
    "import pandas as pd\n",
    "from sklearn.model_selection import train_test_split\n",
    "from sklearn.linear_model import LinearRegression\n",
    "from sklearn.metrics import mean_squared_error\n",
    "from sklearn.impute import SimpleImputer\n",
    "import numpy as np\n",
    "\n",
    "origin = pd.read_csv(\"../dataset/HousingData.csv\")\n",
    "X = origin.drop(columns=['MEDV'])\n",
    "y = origin['MEDV']\n",
    "X_train, X_test, y_train, y_test = train_test_split(X, y, test_size=0.3, random_state=42)\n",
    "X_train = X_train.dropna()\n",
    "y_train = y_train[X_train.index]\n",
    "X_test = X_test.dropna()\n",
    "y_test = y_test[X_test.index]\n",
    "model = LinearRegression()\n",
    "model.fit(X_train, y_train)\n",
    "y_pred = model.predict(X_test)\n",
    "mse = mean_squared_error(y_test, y_pred)\n",
    "print(f\"MSE of the original data: {mse:.4f}\")\n",
    "\n",
    "dataset = \"housing\"\n",
    "seed = 10000\n",
    "    \n",
    "origin = pd.read_csv(\"../dataset/HousingData.csv\")\n",
    "loaded_results = np.load(f\"{dataset}-{seed}.npy\", allow_pickle=True).item()\n",
    "watermarked_data = loaded_results['watermarked_data']\n",
    "X = watermarked_data.drop(columns=['MEDV'])\n",
    "y = watermarked_data['MEDV']\n",
    "X_train, _, y_train, _ = train_test_split(X, y, test_size=0.3, random_state=42)\n",
    "X_train = X_train.dropna()\n",
    "y_train = y_train[X_train.index]\n",
    "X = origin.drop(columns=['MEDV'])\n",
    "y = origin['MEDV']\n",
    "_, X_test, _, y_test = train_test_split(X, y, test_size=0.3, random_state=42)\n",
    "X_test = X_test.dropna()\n",
    "y_test = y_test[X_test.index]\n",
    "model = LinearRegression()\n",
    "model.fit(X_train, y_train)\n",
    "y_pred = model.predict(X_test)\n",
    "mse = mean_squared_error(y_test, y_pred)\n",
    "print(f\"MSE of the watermarked data: {mse:.4f}\")\n",
    "\n"
   ]
  }
 ],
 "metadata": {
  "kernelspec": {
   "display_name": "watermark",
   "language": "python",
   "name": "python3"
  },
  "language_info": {
   "name": "python",
   "version": "3.8.19"
  }
 },
 "nbformat": 4,
 "nbformat_minor": 2
}
